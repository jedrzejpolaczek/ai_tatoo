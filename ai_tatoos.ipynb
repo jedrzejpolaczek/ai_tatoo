{
 "cells": [
  {
   "cell_type": "markdown",
   "metadata": {},
   "source": [
    "PYTANIE: Czego potrzebujemy?\n",
    "ODPOWIEDZ: Uczenie nienadzorowanego!\n",
    "\n",
    "PYTANIE: Czemu?\n",
    "ODPOWIEDZ: ...\n",
    "\n",
    "PYTANIE: Czego użyjemy?\n",
    "ODPOWIEDZ: Używamy GAN.\n",
    "\n",
    "PYTANIE: Czemu GAN?\n",
    "ODPOWIEDZ: Ponieważ ogólna zasada jest taka, że próbujemy coś wygenerować i mamy detykowanego agenta, który mówi czy to się udało czy nie.\n",
    "Brzmi ok do uczenia generowania obrazów już istniejących.\n",
    "\n",
    "PYTANIE: W takim razie jak to działa że tworzy nowe obrazy?\n",
    "ODPOWIEDZ: Mamy w sumie dwa modele, jeden ma generować np. kwiatki, a drugi ma mówić czy to co dostaje do kwiatek. Jak model rozpoznający kwiatki powie \"to nie kwiatek\" to model generujący się updatuje, a jak model rozpoznający powie \"to totalnie jest kwiatek\" na to co dał model generujący, to model rozpoznający się updatuje i tak w kółko...\n",
    "Na sam koniec mamy model, który dostając obraz na wejście \"przewiduje\" co może być na wyjściu, czyli na nasze, będzie tworzył obraz jaki \"być powinien\" na bazie tego czego się nauczył.\n",
    "\n",
    "PYTANIE: A jakie sieci w tym GAN pan ma?\n",
    "ODPOWIEDZ: convolutional neural network (CNN)\n",
    "\n",
    "PYTANIE: Czemu?\n",
    "ODPOWIEDŹ: CNN mogą uczyć się na \"historii\" czyli trochę tak jakby to był film o kwiatkach i model będzie przewidywał następną klatkę tego filmu o kwiatkach. Żeby to zrobić musi coś wygenerować i nam zaproponować. To tutaj mamy część \"twórczą\".\n"
   ]
  },
  {
   "cell_type": "code",
   "execution_count": null,
   "metadata": {},
   "outputs": [],
   "source": []
  }
 ],
 "metadata": {
  "kernelspec": {
   "display_name": "Python 3.9.12 ('base')",
   "language": "python",
   "name": "python3"
  },
  "language_info": {
   "name": "python",
   "version": "3.9.12"
  },
  "orig_nbformat": 4,
  "vscode": {
   "interpreter": {
    "hash": "fca86f6b1e83c790fbbe2f37ee7991c335ca66a3f5db41e91d95f1f3ff0270ff"
   }
  }
 },
 "nbformat": 4,
 "nbformat_minor": 2
}
