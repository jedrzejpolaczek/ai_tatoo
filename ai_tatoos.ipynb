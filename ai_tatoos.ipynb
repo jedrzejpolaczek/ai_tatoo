{
 "cells": [
  {
   "cell_type": "markdown",
   "metadata": {},
   "source": [
    "Używamy GAN.\n",
    "\n",
    "Czemu GAN? Ponieważ ogólna zasada jest taka, że próbujemy coś wygenerować i mamy detykowanego agenta, który mówi czy to się udało czy nie.\n",
    "Brzmi ok do uczenia generowania obrazów już istniejących.\n",
    "\n",
    "W takim razie jak to działa że tworzy nowe obrazy?\n",
    "\n",
    "Ano tak...\n",
    "\n",
    "NIE WIEM ;___;"
   ]
  },
  {
   "cell_type": "code",
   "execution_count": null,
   "metadata": {},
   "outputs": [],
   "source": []
  }
 ],
 "metadata": {
  "kernelspec": {
   "display_name": "Python 3.9.12 ('base')",
   "language": "python",
   "name": "python3"
  },
  "language_info": {
   "name": "python",
   "version": "3.9.12"
  },
  "orig_nbformat": 4,
  "vscode": {
   "interpreter": {
    "hash": "fca86f6b1e83c790fbbe2f37ee7991c335ca66a3f5db41e91d95f1f3ff0270ff"
   }
  }
 },
 "nbformat": 4,
 "nbformat_minor": 2
}
